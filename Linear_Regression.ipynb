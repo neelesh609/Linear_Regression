{
  "nbformat": 4,
  "nbformat_minor": 0,
  "metadata": {
    "colab": {
      "name": "Linear_Regression.ipynb",
      "provenance": [],
      "collapsed_sections": []
    },
    "kernelspec": {
      "name": "python3",
      "display_name": "Python 3"
    },
    "language_info": {
      "name": "python"
    }
  },
  "cells": [
    {
      "cell_type": "code",
      "metadata": {
        "id": "CpVrdIU8lW8t"
      },
      "source": [
        "# Import necessary Library\n",
        "import numpy as np\n",
        "from scipy.stats import norm\n",
        "import matplotlib.pyplot as plt\n",
        "import seaborn as sns"
      ],
      "execution_count": 225,
      "outputs": []
    },
    {
      "cell_type": "code",
      "metadata": {
        "colab": {
          "base_uri": "https://localhost:8080/"
        },
        "id": "xc1RxrhllwrV",
        "outputId": "384b8100-1d6d-41e7-dd99-5a926b7b39d0"
      },
      "source": [
        "import random\n",
        "import numpy as np\n",
        "random.seed(42)\n",
        "X = np.random.uniform(0,1,20)\n",
        "print(X)\n",
        "\n",
        "np.all(X >= 0)\n",
        "\n",
        "np.all(X < 1)"
      ],
      "execution_count": 226,
      "outputs": [
        {
          "output_type": "stream",
          "text": [
            "[0.5488135  0.71518937 0.60276338 0.54488318 0.4236548  0.64589411\n",
            " 0.43758721 0.891773   0.96366276 0.38344152 0.79172504 0.52889492\n",
            " 0.56804456 0.92559664 0.07103606 0.0871293  0.0202184  0.83261985\n",
            " 0.77815675 0.87001215]\n"
          ],
          "name": "stdout"
        },
        {
          "output_type": "execute_result",
          "data": {
            "text/plain": [
              "True"
            ]
          },
          "metadata": {
            "tags": []
          },
          "execution_count": 226
        }
      ]
    },
    {
      "cell_type": "code",
      "metadata": {
        "colab": {
          "base_uri": "https://localhost:8080/"
        },
        "id": "ZqL4oWVql5OU",
        "outputId": "10aeec84-289a-4d83-9a42-7eb1de414ad7"
      },
      "source": [
        "random.seed(42)\n",
        "mu, sigma = 0, 1 # mean and standard deviation\n",
        "N = np.random.normal(mu, sigma, 20)\n",
        "print(N)"
      ],
      "execution_count": 227,
      "outputs": [
        {
          "output_type": "stream",
          "text": [
            "[ 1.49407907 -0.20515826  0.3130677  -0.85409574 -2.55298982  0.6536186\n",
            "  0.8644362  -0.74216502  2.26975462 -1.45436567  0.04575852 -0.18718385\n",
            "  1.53277921  1.46935877  0.15494743  0.37816252 -0.88778575 -1.98079647\n",
            " -0.34791215  0.15634897]\n"
          ],
          "name": "stdout"
        }
      ]
    },
    {
      "cell_type": "code",
      "metadata": {
        "colab": {
          "base_uri": "https://localhost:8080/",
          "height": 789
        },
        "id": "ho5H8ZvMmJMZ",
        "outputId": "f8158b1c-4ce3-4aa8-b6cc-236fb6ad7b4a"
      },
      "source": [
        "import matplotlib.pyplot as plt\n",
        "y=np.sin(2*np.pi*X)+N*(1/10)\n",
        "print(y)\n",
        "print(X)\n",
        "plt.scatter(X,y)\n",
        "plt.xlabel('X')\n",
        "plt.ylabel('y=sin(2*pi*X)+N')\n",
        "plt.show()\n",
        "\n",
        "# Showing X and y values in data frame\n",
        "import numpy as np\n",
        "import pandas as pd\n",
        "df = pd.DataFrame({'x':X, 'y':y})\n",
        "print(df)\n"
      ],
      "execution_count": 228,
      "outputs": [
        {
          "output_type": "stream",
          "text": [
            "[-1.52510463e-01 -9.96691450e-01 -5.70435983e-01 -3.63695766e-01\n",
            "  2.06206129e-01 -7.28223903e-01  4.68620742e-01 -7.03017528e-01\n",
            "  6.40244190e-04  5.23188732e-01 -9.61254986e-01 -1.99274801e-01\n",
            " -2.61352460e-01 -3.03711245e-01  4.47155165e-01  5.58327450e-01\n",
            "  3.79159515e-02 -1.06633783e+00 -1.01918269e+00 -7.13281477e-01]\n",
            "[0.5488135  0.71518937 0.60276338 0.54488318 0.4236548  0.64589411\n",
            " 0.43758721 0.891773   0.96366276 0.38344152 0.79172504 0.52889492\n",
            " 0.56804456 0.92559664 0.07103606 0.0871293  0.0202184  0.83261985\n",
            " 0.77815675 0.87001215]\n"
          ],
          "name": "stdout"
        },
        {
          "output_type": "display_data",
          "data": {
            "image/png": "[encoded data removed]",
            "text/plain": [
              "<Figure size 432x288 with 1 Axes>"
            ]
          },
          "metadata": {
            "tags": [],
            "needs_background": "light"
          }
        },
        {
          "output_type": "stream",
          "text": [
            "           x         y\n",
            "0   0.548814 -0.152510\n",
            "1   0.715189 -0.996691\n",
            "2   0.602763 -0.570436\n",
            "3   0.544883 -0.363696\n",
            "4   0.423655  0.206206\n",
            "5   0.645894 -0.728224\n",
            "6   0.437587  0.468621\n",
            "7   0.891773 -0.703018\n",
            "8   0.963663  0.000640\n",
            "9   0.383442  0.523189\n",
            "10  0.791725 -0.961255\n",
            "11  0.528895 -0.199275\n",
            "12  0.568045 -0.261352\n",
            "13  0.925597 -0.303711\n",
            "14  0.071036  0.447155\n",
            "15  0.087129  0.558327\n",
            "16  0.020218  0.037916\n",
            "17  0.832620 -1.066338\n",
            "18  0.778157 -1.019183\n",
            "19  0.870012 -0.713281\n"
          ],
          "name": "stdout"
        }
      ]
    },
    {
      "cell_type": "code",
      "metadata": {
        "colab": {
          "base_uri": "https://localhost:8080/"
        },
        "id": "IFsArcqWmOuZ",
        "outputId": "e326a6e3-05b5-4f52-fc59-61230b080549"
      },
      "source": [
        "\n",
        "df.train=df[0:10]\n",
        "print(df.train)\n"
      ],
      "execution_count": 229,
      "outputs": [
        {
          "output_type": "stream",
          "text": [
            "          x         y\n",
            "0  0.548814 -0.152510\n",
            "1  0.715189 -0.996691\n",
            "2  0.602763 -0.570436\n",
            "3  0.544883 -0.363696\n",
            "4  0.423655  0.206206\n",
            "5  0.645894 -0.728224\n",
            "6  0.437587  0.468621\n",
            "7  0.891773 -0.703018\n",
            "8  0.963663  0.000640\n",
            "9  0.383442  0.523189\n"
          ],
          "name": "stdout"
        },
        {
          "output_type": "stream",
          "text": [
            "/usr/local/lib/python3.7/dist-packages/ipykernel_launcher.py:2: UserWarning: Pandas doesn't allow columns to be created via a new attribute name - see https://pandas.pydata.org/pandas-docs/stable/indexing.html#attribute-access\n",
            "  \n"
          ],
          "name": "stderr"
        }
      ]
    },
    {
      "cell_type": "code",
      "metadata": {
        "colab": {
          "base_uri": "https://localhost:8080/"
        },
        "id": "dmcyk6AFmSqI",
        "outputId": "e9cb45a1-dc73-4eef-b45d-d950fd95de5c"
      },
      "source": [
        "X_train = df.train.iloc[:,0].values \n",
        "print(X_train)"
      ],
      "execution_count": 230,
      "outputs": [
        {
          "output_type": "stream",
          "text": [
            "[0.5488135  0.71518937 0.60276338 0.54488318 0.4236548  0.64589411\n",
            " 0.43758721 0.891773   0.96366276 0.38344152]\n"
          ],
          "name": "stdout"
        }
      ]
    },
    {
      "cell_type": "code",
      "metadata": {
        "colab": {
          "base_uri": "https://localhost:8080/"
        },
        "id": "DGT_BbwzmWMU",
        "outputId": "973107b4-7137-4c02-86a8-b46bbb0e01aa"
      },
      "source": [
        "y_train = df.train.iloc[:,1].values \n",
        "print(y_train)"
      ],
      "execution_count": 231,
      "outputs": [
        {
          "output_type": "stream",
          "text": [
            "[-1.52510463e-01 -9.96691450e-01 -5.70435983e-01 -3.63695766e-01\n",
            "  2.06206129e-01 -7.28223903e-01  4.68620742e-01 -7.03017528e-01\n",
            "  6.40244190e-04  5.23188732e-01]\n"
          ],
          "name": "stdout"
        }
      ]
    },
    {
      "cell_type": "code",
      "metadata": {
        "id": "Po0Az--gmY4u"
      },
      "source": [
        "import numpy as np\n",
        "import matplotlib.pyplot as plt\n",
        "\n",
        "from sklearn.linear_model import LinearRegression\n",
        "# transforming the data to include another axis\n",
        "x = X_train[:, np.newaxis]\n",
        "y = y_train[:, np.newaxis]\n",
        "model = LinearRegression()\n",
        "model.fit(x, y)\n",
        "y_pred = model.predict(x)"
      ],
      "execution_count": 232,
      "outputs": []
    },
    {
      "cell_type": "code",
      "metadata": {
        "colab": {
          "base_uri": "https://localhost:8080/",
          "height": 265
        },
        "id": "BVQWDvpnmcDT",
        "outputId": "d385e9cf-19d5-46b5-90a4-6ed0b28ca8a1"
      },
      "source": [
        "plt.scatter(x, y, s=10)\n",
        "plt.plot(x, y_pred, color='r')\n",
        "plt.show()\n"
      ],
      "execution_count": 233,
      "outputs": [
        {
          "output_type": "display_data",
          "data": {
            "image/png": "[encoded data removed]",
            "text/plain": [
              "<Figure size 432x288 with 1 Axes>"
            ]
          },
          "metadata": {
            "tags": [],
            "needs_background": "light"
          }
        }
      ]
    },
    {
      "cell_type": "code",
      "metadata": {
        "id": "g_VGJMyemf10"
      },
      "source": [
        "import operator\n",
        "import numpy as np\n",
        "import matplotlib.pyplot as plt\n",
        "\n",
        "from sklearn.linear_model import LinearRegression\n",
        "from sklearn.metrics import mean_squared_error, r2_score\n",
        "from sklearn.preprocessing import PolynomialFeatures"
      ],
      "execution_count": 234,
      "outputs": []
    },
    {
      "cell_type": "code",
      "metadata": {
        "colab": {
          "base_uri": "https://localhost:8080/",
          "height": 363
        },
        "id": "EZa6dGTWmist",
        "outputId": "9121128c-c6fa-4c2a-d4e1-0bca75a8aa49"
      },
      "source": [
        "np.random.seed(0)\n",
        "polynomial_features= PolynomialFeatures(degree=0)\n",
        "x_poly = polynomial_features.fit_transform(x)\n",
        "\n",
        "model0 = LinearRegression()\n",
        "model0.fit(x_poly, y)\n",
        "y_poly_pred = model0.predict(x_poly)\n",
        "\n",
        "rmse = np.sqrt(mean_squared_error(y,y_poly_pred))\n",
        "r2 = r2_score(y,y_poly_pred)\n",
        "print(\"RMSE:\",rmse)\n",
        "print(\"R2:\",r2)\n",
        "print('weights:')\n",
        "print(model0.coef_)\n",
        "plt.scatter(x, y, s=10)\n",
        "# sort the values of x before line plot\n",
        "sort_axis = operator.itemgetter(0)\n",
        "sorted_zip = sorted(zip(x,y_poly_pred), key=sort_axis)\n",
        "x, y_poly_pred = zip(*sorted_zip)\n",
        "plt.plot(x, y_poly_pred, color='m')\n",
        "plt.title('When order, M=0')\n",
        "plt.xlabel('X')\n",
        "plt.ylabel('y=sin(2*pi*X)+N')\n",
        "plt.show()"
      ],
      "execution_count": 235,
      "outputs": [
        {
          "output_type": "stream",
          "text": [
            "RMSE: 0.4998373571860261\n",
            "R2: 0.0\n",
            "weights:\n",
            "[[0.]]\n"
          ],
          "name": "stdout"
        },
        {
          "output_type": "display_data",
          "data": {
            "image/png": "[encoded data removed]",
            "text/plain": [
              "<Figure size 432x288 with 1 Axes>"
            ]
          },
          "metadata": {
            "tags": [],
            "needs_background": "light"
          }
        }
      ]
    },
    {
      "cell_type": "code",
      "metadata": {
        "id": "uMcalqH6mmKr"
      },
      "source": [
        "import operator\n",
        "\n",
        "import numpy as np\n",
        "import matplotlib.pyplot as plt\n",
        "\n",
        "from sklearn.linear_model import LinearRegression\n",
        "from sklearn.metrics import mean_squared_error, r2_score\n",
        "from sklearn.preprocessing import PolynomialFeatures"
      ],
      "execution_count": 236,
      "outputs": []
    },
    {
      "cell_type": "code",
      "metadata": {
        "colab": {
          "base_uri": "https://localhost:8080/",
          "height": 346
        },
        "id": "lEeK8rxUm4CW",
        "outputId": "31d53126-2555-4a4b-fc59-0d0c1ec71825"
      },
      "source": [
        "np.random.seed(0)\n",
        "polynomial_features= PolynomialFeatures(degree=1)\n",
        "x_poly = polynomial_features.fit_transform(x)\n",
        "\n",
        "model1 = LinearRegression()\n",
        "model1.fit(x_poly, y)\n",
        "y_poly_pred = model1.predict(x_poly)\n",
        "\n",
        "rmse = np.sqrt(mean_squared_error(y,y_poly_pred))\n",
        "r2 = r2_score(y,y_poly_pred)\n",
        "print(\"RMSE:\",rmse)\n",
        "print(\"R2:\",r2)\n",
        "print(model1.coef_)\n",
        "plt.scatter(x, y, s=10)\n",
        "# sort the values of x before line plot\n",
        "sort_axis = operator.itemgetter(0)\n",
        "sorted_zip = sorted(zip(x,y_poly_pred), key=sort_axis)\n",
        "x, y_poly_pred = zip(*sorted_zip)\n",
        "plt.plot(x, y_poly_pred, color='m')\n",
        "plt.title('When order, M=1')\n",
        "plt.xlabel('X')\n",
        "plt.ylabel('y=sin(2*pi*X)+N*(1/10)')\n",
        "plt.show()"
      ],
      "execution_count": 237,
      "outputs": [
        {
          "output_type": "stream",
          "text": [
            "RMSE: 0.4279541041671442\n",
            "R2: 0.26694431151125164\n",
            "[[0.         1.39991535]]\n"
          ],
          "name": "stdout"
        },
        {
          "output_type": "display_data",
          "data": {
            "image/png": "[encoded data removed]",
            "text/plain": [
              "<Figure size 432x288 with 1 Axes>"
            ]
          },
          "metadata": {
            "tags": [],
            "needs_background": "light"
          }
        }
      ]
    },
    {
      "cell_type": "code",
      "metadata": {
        "colab": {
          "base_uri": "https://localhost:8080/",
          "height": 346
        },
        "id": "K1KM4St-nBzl",
        "outputId": "39bb7b42-ee26-4506-bb5e-9c4c37907b83"
      },
      "source": [
        "np.random.seed(0)\n",
        "polynomial_features= PolynomialFeatures(degree=3)\n",
        "x_poly = polynomial_features.fit_transform(x)\n",
        "\n",
        "model3 = LinearRegression()\n",
        "model3.fit(x_poly, y)\n",
        "y_poly_pred = model3.predict(x_poly)\n",
        "\n",
        "rmse = np.sqrt(mean_squared_error(y,y_poly_pred))\n",
        "r2 = r2_score(y,y_poly_pred)\n",
        "print(\"RMSE:\",rmse)\n",
        "print(\"R2:\",r2)\n",
        "print(model3.coef_)\n",
        "\n",
        "plt.scatter(x, y, s=10)\n",
        "# sort the values of x before line plot\n",
        "sort_axis = operator.itemgetter(0)\n",
        "sorted_zip = sorted(zip(x,y_poly_pred), key=sort_axis)\n",
        "x, y_poly_pred = zip(*sorted_zip)\n",
        "plt.plot(x, y_poly_pred, color='m')\n",
        "plt.title('When order, M=3')\n",
        "plt.xlabel('X')\n",
        "plt.ylabel('y=sin(2*pi*X)+N*(1/10)')\n",
        "plt.show()"
      ],
      "execution_count": 238,
      "outputs": [
        {
          "output_type": "stream",
          "text": [
            "RMSE: 0.41291265715757974\n",
            "R2: 0.31756865222584985\n",
            "[[  0.          30.07960566 -47.71540672  24.94136368]]\n"
          ],
          "name": "stdout"
        },
        {
          "output_type": "display_data",
          "data": {
            "image/png": "[encoded data removed]",
            "text/plain": [
              "<Figure size 432x288 with 1 Axes>"
            ]
          },
          "metadata": {
            "tags": [],
            "needs_background": "light"
          }
        }
      ]
    },
    {
      "cell_type": "code",
      "metadata": {
        "colab": {
          "base_uri": "https://localhost:8080/",
          "height": 380
        },
        "id": "6qKqe5tCnHsC",
        "outputId": "395039b3-b458-4985-8963-29a69d605137"
      },
      "source": [
        "np.random.seed(0)\n",
        "polynomial_features= PolynomialFeatures(degree=9)\n",
        "x_poly = polynomial_features.fit_transform(x)\n",
        "\n",
        "model9 = LinearRegression()\n",
        "model9.fit(x_poly, y)\n",
        "y_poly_pred = model9.predict(x_poly)\n",
        "\n",
        "rmse = np.sqrt(mean_squared_error(y,y_poly_pred))\n",
        "r2 = r2_score(y,y_poly_pred)\n",
        "print(\"RMSE:\",rmse)\n",
        "print(\"R2:\",r2)\n",
        "print(model9.coef_)\n",
        "\n",
        "plt.scatter(x, y, s=10)\n",
        "# sort the values of x before line plot\n",
        "sort_axis = operator.itemgetter(0)\n",
        "sorted_zip = sorted(zip(x,y_poly_pred), key=sort_axis)\n",
        "x, y_poly_pred = zip(*sorted_zip)\n",
        "plt.plot(x, y_poly_pred, color='m')\n",
        "plt.title('When order,M =9')\n",
        "plt.xlabel('X')\n",
        "plt.ylabel('y=sin(2*pi*X)+N*(1/10)')\n",
        "plt.show()"
      ],
      "execution_count": 239,
      "outputs": [
        {
          "output_type": "stream",
          "text": [
            "RMSE: 1.8749981246945704e-06\n",
            "R2: 0.9999999999859284\n",
            "[[ 0.00000000e+00 -8.64022092e+07  6.02141491e+08 -2.42066765e+09\n",
            "   6.18524918e+09 -1.04157260e+10  1.15575979e+10 -8.14773538e+09\n",
            "   3.31089625e+09 -5.90812207e+08]]\n"
          ],
          "name": "stdout"
        },
        {
          "output_type": "display_data",
          "data": {
            "image/png": "[encoded data removed]",
            "text/plain": [
              "<Figure size 432x288 with 1 Axes>"
            ]
          },
          "metadata": {
            "tags": [],
            "needs_background": "light"
          }
        }
      ]
    },
    {
      "cell_type": "code",
      "metadata": {
        "colab": {
          "base_uri": "https://localhost:8080/"
        },
        "id": "k75pyScknIfk",
        "outputId": "a067f5a0-d35c-44b5-d563-98086223922c"
      },
      "source": [
        "print(model0.coef_)\n",
        "print(model1.coef_)\n",
        "print(model3.coef_)\n",
        "print(model9.coef_)"
      ],
      "execution_count": 240,
      "outputs": [
        {
          "output_type": "stream",
          "text": [
            "[[0.]]\n",
            "[[0.         1.39991535]]\n",
            "[[  0.          30.07960566 -47.71540672  24.94136368]]\n",
            "[[ 0.00000000e+00 -8.64022092e+07  6.02141491e+08 -2.42066765e+09\n",
            "   6.18524918e+09 -1.04157260e+10  1.15575979e+10 -8.14773538e+09\n",
            "   3.31089625e+09 -5.90812207e+08]]\n"
          ],
          "name": "stdout"
        }
      ]
    },
    {
      "cell_type": "code",
      "metadata": {
        "colab": {
          "base_uri": "https://localhost:8080/",
          "height": 430
        },
        "id": "IMsQ6MkBoRpW",
        "outputId": "3a3202c6-bc61-45de-d94c-5fa537658656"
      },
      "source": [
        "import pandas as pd \n",
        "\n",
        "# intialise data of lists. \n",
        "data = {'M=0':[model0.coef_[0][0],\"\",\"\",\"\",\"\",\"\",\"\",\"\",\"\",\"\" ],'M=1':[model1.coef_[0][0],model1.coef_[0][1],\"\",\"\",\"\",\"\",\"\",\"\",\"\",\"\"],'M=3':[model3.coef_[0][0],model3.coef_[0][1],model3.coef_[0][2],model3.coef_[0][3],\"\",\"\",\"\",\"\",\"\",\"\"],'M=9':[ model9.coef_[0][0],model9.coef_[0][1],model9.coef_[0][2],model9.coef_[0][3],model9.coef_[0][4],model9.coef_[0][5],model9.coef_[0][6],model9.coef_[0][7],model9.coef_[0][8],model9.coef_[0][9]]}\n",
        "    \n",
        "print(data)\n",
        "# Creates pandas DataFrame. \n",
        "df.w = pd.DataFrame(data, index =['w0', 'w1', 'w2', 'w3', 'w4', 'w5', 'w6', 'w7', 'w8', 'w9']) \n",
        "  \n",
        "# print the data \n",
        "df.w "
      ],
      "execution_count": 241,
      "outputs": [
        {
          "output_type": "stream",
          "text": [
            "{'M=0': [0.0, '', '', '', '', '', '', '', '', ''], 'M=1': [0.0, 1.399915352534754, '', '', '', '', '', '', '', ''], 'M=3': [0.0, 30.079605663834087, -47.715406721642566, 24.941363679588378, '', '', '', '', '', ''], 'M=9': [0.0, -86402209.17152746, 602141491.2251334, -2420667651.2227182, 6185249184.07055, -10415726027.735865, 11557597934.926004, -8147735380.191354, 3310896253.4596543, -590812207.0529249]}\n"
          ],
          "name": "stdout"
        },
        {
          "output_type": "stream",
          "text": [
            "/usr/local/lib/python3.7/dist-packages/ipykernel_launcher.py:8: UserWarning: Pandas doesn't allow columns to be created via a new attribute name - see https://pandas.pydata.org/pandas-docs/stable/indexing.html#attribute-access\n",
            "  \n"
          ],
          "name": "stderr"
        },
        {
          "output_type": "execute_result",
          "data": {
            "text/html": [
              "<div>\n",
              "<style scoped>\n",
              "    .dataframe tbody tr th:only-of-type {\n",
              "        vertical-align: middle;\n",
              "    }\n",
              "\n",
              "    .dataframe tbody tr th {\n",
              "        vertical-align: top;\n",
              "    }\n",
              "\n",
              "    .dataframe thead th {\n",
              "        text-align: right;\n",
              "    }\n",
              "</style>\n",
              "<table border=\"1\" class=\"dataframe\">\n",
              "  <thead>\n",
              "    <tr style=\"text-align: right;\">\n",
              "      <th></th>\n",
              "      <th>M=0</th>\n",
              "      <th>M=1</th>\n",
              "      <th>M=3</th>\n",
              "      <th>M=9</th>\n",
              "    </tr>\n",
              "  </thead>\n",
              "  <tbody>\n",
              "    <tr>\n",
              "      <th>w0</th>\n",
              "      <td>0</td>\n",
              "      <td>0</td>\n",
              "      <td>0</td>\n",
              "      <td>0.000000e+00</td>\n",
              "    </tr>\n",
              "    <tr>\n",
              "      <th>w1</th>\n",
              "      <td></td>\n",
              "      <td>1.39992</td>\n",
              "      <td>30.0796</td>\n",
              "      <td>-8.640221e+07</td>\n",
              "    </tr>\n",
              "    <tr>\n",
              "      <th>w2</th>\n",
              "      <td></td>\n",
              "      <td></td>\n",
              "      <td>-47.7154</td>\n",
              "      <td>6.021415e+08</td>\n",
              "    </tr>\n",
              "    <tr>\n",
              "      <th>w3</th>\n",
              "      <td></td>\n",
              "      <td></td>\n",
              "      <td>24.9414</td>\n",
              "      <td>-2.420668e+09</td>\n",
              "    </tr>\n",
              "    <tr>\n",
              "      <th>w4</th>\n",
              "      <td></td>\n",
              "      <td></td>\n",
              "      <td></td>\n",
              "      <td>6.185249e+09</td>\n",
              "    </tr>\n",
              "    <tr>\n",
              "      <th>w5</th>\n",
              "      <td></td>\n",
              "      <td></td>\n",
              "      <td></td>\n",
              "      <td>-1.041573e+10</td>\n",
              "    </tr>\n",
              "    <tr>\n",
              "      <th>w6</th>\n",
              "      <td></td>\n",
              "      <td></td>\n",
              "      <td></td>\n",
              "      <td>1.155760e+10</td>\n",
              "    </tr>\n",
              "    <tr>\n",
              "      <th>w7</th>\n",
              "      <td></td>\n",
              "      <td></td>\n",
              "      <td></td>\n",
              "      <td>-8.147735e+09</td>\n",
              "    </tr>\n",
              "    <tr>\n",
              "      <th>w8</th>\n",
              "      <td></td>\n",
              "      <td></td>\n",
              "      <td></td>\n",
              "      <td>3.310896e+09</td>\n",
              "    </tr>\n",
              "    <tr>\n",
              "      <th>w9</th>\n",
              "      <td></td>\n",
              "      <td></td>\n",
              "      <td></td>\n",
              "      <td>-5.908122e+08</td>\n",
              "    </tr>\n",
              "  </tbody>\n",
              "</table>\n",
              "</div>"
            ],
            "text/plain": [
              "   M=0      M=1      M=3           M=9\n",
              "w0   0        0        0  0.000000e+00\n",
              "w1      1.39992  30.0796 -8.640221e+07\n",
              "w2              -47.7154  6.021415e+08\n",
              "w3               24.9414 -2.420668e+09\n",
              "w4                        6.185249e+09\n",
              "w5                       -1.041573e+10\n",
              "w6                        1.155760e+10\n",
              "w7                       -8.147735e+09\n",
              "w8                        3.310896e+09\n",
              "w9                       -5.908122e+08"
            ]
          },
          "metadata": {
            "tags": []
          },
          "execution_count": 241
        }
      ]
    },
    {
      "cell_type": "code",
      "metadata": {
        "colab": {
          "base_uri": "https://localhost:8080/"
        },
        "id": "Lyr77zyqoSgq",
        "outputId": "7844f196-2efb-46cb-ea7b-ae7ea5cb939a"
      },
      "source": [
        "arr1=[]\n",
        "for m in range(0,10):\n",
        "    import operator\n",
        "    import numpy as np\n",
        "    import matplotlib.pyplot as plt\n",
        "\n",
        "    from sklearn.linear_model import LinearRegression\n",
        "    from sklearn.metrics import mean_squared_error, r2_score\n",
        "    from sklearn.preprocessing import PolynomialFeatures\n",
        "    np.random.seed(0)\n",
        "    polynomial_features= PolynomialFeatures(degree=(m))\n",
        "    x_poly = polynomial_features.fit_transform(x)\n",
        "\n",
        "    model0 = LinearRegression()\n",
        "    model0.fit(x_poly, y)\n",
        "    y_poly_pred = model0.predict(x_poly)\n",
        "\n",
        "    rmse = np.sqrt(mean_squared_error(y,y_poly_pred))\n",
        "    r2 = r2_score(y,y_poly_pred)\n",
        "    print(\"RMSE:\",rmse)\n",
        "    arr1.append(rmse)"
      ],
      "execution_count": 242,
      "outputs": [
        {
          "output_type": "stream",
          "text": [
            "RMSE: 0.4998373571860261\n",
            "RMSE: 0.4279541041671442\n",
            "RMSE: 0.42414132816829236\n",
            "RMSE: 0.41291265715757974\n",
            "RMSE: 0.3903216903221164\n",
            "RMSE: 0.34143058238951046\n",
            "RMSE: 0.3407206522527545\n",
            "RMSE: 0.19496357325408797\n",
            "RMSE: 0.15198321566521197\n",
            "RMSE: 1.8749981246945704e-06\n"
          ],
          "name": "stdout"
        }
      ]
    },
    {
      "cell_type": "code",
      "metadata": {
        "colab": {
          "base_uri": "https://localhost:8080/"
        },
        "id": "iKoT8teSoY7Z",
        "outputId": "64c8d4eb-5ada-402e-f424-a2644cff70b8"
      },
      "source": [
        "df.test=df[10:19]\n",
        "print(df.test)"
      ],
      "execution_count": 243,
      "outputs": [
        {
          "output_type": "stream",
          "text": [
            "           x         y\n",
            "10  0.791725 -0.961255\n",
            "11  0.528895 -0.199275\n",
            "12  0.568045 -0.261352\n",
            "13  0.925597 -0.303711\n",
            "14  0.071036  0.447155\n",
            "15  0.087129  0.558327\n",
            "16  0.020218  0.037916\n",
            "17  0.832620 -1.066338\n",
            "18  0.778157 -1.019183\n"
          ],
          "name": "stdout"
        },
        {
          "output_type": "stream",
          "text": [
            "/usr/local/lib/python3.7/dist-packages/ipykernel_launcher.py:1: UserWarning: Pandas doesn't allow columns to be created via a new attribute name - see https://pandas.pydata.org/pandas-docs/stable/indexing.html#attribute-access\n",
            "  \"\"\"Entry point for launching an IPython kernel.\n"
          ],
          "name": "stderr"
        }
      ]
    },
    {
      "cell_type": "code",
      "metadata": {
        "colab": {
          "base_uri": "https://localhost:8080/"
        },
        "id": "97Vul7DNod0Q",
        "outputId": "bcdf580e-e313-49e1-e8aa-69ee80de5358"
      },
      "source": [
        "Xt= df.test.iloc[:,1].values \n",
        "print(Xt)"
      ],
      "execution_count": 244,
      "outputs": [
        {
          "output_type": "stream",
          "text": [
            "[-0.96125499 -0.1992748  -0.26135246 -0.30371125  0.44715516  0.55832745\n",
            "  0.03791595 -1.06633783 -1.01918269]\n"
          ],
          "name": "stdout"
        }
      ]
    },
    {
      "cell_type": "code",
      "metadata": {
        "colab": {
          "base_uri": "https://localhost:8080/"
        },
        "id": "-OkX7neooeqX",
        "outputId": "40ed0af2-c109-4dc8-a262-bd7ef1ad4fdd"
      },
      "source": [
        "yt = df.test.iloc[:,1].values \n",
        "print(yt)"
      ],
      "execution_count": 245,
      "outputs": [
        {
          "output_type": "stream",
          "text": [
            "[-0.96125499 -0.1992748  -0.26135246 -0.30371125  0.44715516  0.55832745\n",
            "  0.03791595 -1.06633783 -1.01918269]\n"
          ],
          "name": "stdout"
        }
      ]
    },
    {
      "cell_type": "code",
      "metadata": {
        "id": "RiUcs4Atog9b"
      },
      "source": [
        "import numpy as np\n",
        "import matplotlib.pyplot as plt\n",
        "\n",
        "from sklearn.linear_model import LinearRegression\n",
        "# transforming the data to include another axis\n",
        "x = Xt[:, np.newaxis]\n",
        "y = yt[:, np.newaxis]"
      ],
      "execution_count": 246,
      "outputs": []
    },
    {
      "cell_type": "code",
      "metadata": {
        "colab": {
          "base_uri": "https://localhost:8080/"
        },
        "id": "rNtHBsgrokdV",
        "outputId": "d427d526-fd39-4957-f640-fbb8e06c2a64"
      },
      "source": [
        "arr = []\n",
        "for m in range(0,10):\n",
        "    import operator\n",
        "    import numpy as np\n",
        "    import matplotlib.pyplot as plt\n",
        "\n",
        "    from sklearn.linear_model import LinearRegression\n",
        "    from sklearn.metrics import mean_squared_error, r2_score\n",
        "    from sklearn.preprocessing import PolynomialFeatures\n",
        "    np.random.seed(0)\n",
        "    polynomial_features= PolynomialFeatures(degree=(m))\n",
        "    x_poly = polynomial_features.fit_transform(x)\n",
        "\n",
        "    model0 = LinearRegression()\n",
        "    model0.fit(x_poly, y)\n",
        "    y_poly_pred = model0.predict(x_poly)\n",
        "\n",
        "    rmse = np.sqrt(mean_squared_error(y,y_poly_pred))\n",
        "    r2 = r2_score(y,y_poly_pred)\n",
        "    print(\"RMSE:\",rmse)\n",
        "    arr.append(rmse)"
      ],
      "execution_count": 247,
      "outputs": [
        {
          "output_type": "stream",
          "text": [
            "RMSE: 0.5736872062697822\n",
            "RMSE: 2.8744111503786724e-16\n",
            "RMSE: 1.581127466057893e-16\n",
            "RMSE: 6.923456968425373e-17\n",
            "RMSE: 2.1382404193843313e-15\n",
            "RMSE: 3.3090756556660426e-16\n",
            "RMSE: 3.4147380356602024e-16\n",
            "RMSE: 1.0003592099386143e-15\n",
            "RMSE: 4.794982656089889e-16\n",
            "RMSE: 1.3132934982969282e-15\n"
          ],
          "name": "stdout"
        }
      ]
    },
    {
      "cell_type": "code",
      "metadata": {
        "colab": {
          "base_uri": "https://localhost:8080/",
          "height": 372
        },
        "id": "wP6X9eprotc2",
        "outputId": "bec81a8c-9543-4dda-a6f2-c46189ed3216"
      },
      "source": [
        "import pandas as pd \n",
        "\n",
        "# intialise data of lists. \n",
        "data1 = {'M':[0,1,2,3,4,5,6,7,8,9],'Train.RMSE':arr1,'Test.RMSE':arr} \n",
        "print(data)\n",
        "# Creates pandas DataFrame. \n",
        "df1 = pd.DataFrame(data1) \n",
        "  \n",
        "# print the data \n",
        "df1 "
      ],
      "execution_count": 248,
      "outputs": [
        {
          "output_type": "stream",
          "text": [
            "{'M=0': [0.0, '', '', '', '', '', '', '', '', ''], 'M=1': [0.0, 1.399915352534754, '', '', '', '', '', '', '', ''], 'M=3': [0.0, 30.079605663834087, -47.715406721642566, 24.941363679588378, '', '', '', '', '', ''], 'M=9': [0.0, -86402209.17152746, 602141491.2251334, -2420667651.2227182, 6185249184.07055, -10415726027.735865, 11557597934.926004, -8147735380.191354, 3310896253.4596543, -590812207.0529249]}\n"
          ],
          "name": "stdout"
        },
        {
          "output_type": "execute_result",
          "data": {
            "text/html": [
              "<div>\n",
              "<style scoped>\n",
              "    .dataframe tbody tr th:only-of-type {\n",
              "        vertical-align: middle;\n",
              "    }\n",
              "\n",
              "    .dataframe tbody tr th {\n",
              "        vertical-align: top;\n",
              "    }\n",
              "\n",
              "    .dataframe thead th {\n",
              "        text-align: right;\n",
              "    }\n",
              "</style>\n",
              "<table border=\"1\" class=\"dataframe\">\n",
              "  <thead>\n",
              "    <tr style=\"text-align: right;\">\n",
              "      <th></th>\n",
              "      <th>M</th>\n",
              "      <th>Train.RMSE</th>\n",
              "      <th>Test.RMSE</th>\n",
              "    </tr>\n",
              "  </thead>\n",
              "  <tbody>\n",
              "    <tr>\n",
              "      <th>0</th>\n",
              "      <td>0</td>\n",
              "      <td>0.499837</td>\n",
              "      <td>5.736872e-01</td>\n",
              "    </tr>\n",
              "    <tr>\n",
              "      <th>1</th>\n",
              "      <td>1</td>\n",
              "      <td>0.427954</td>\n",
              "      <td>2.874411e-16</td>\n",
              "    </tr>\n",
              "    <tr>\n",
              "      <th>2</th>\n",
              "      <td>2</td>\n",
              "      <td>0.424141</td>\n",
              "      <td>1.581127e-16</td>\n",
              "    </tr>\n",
              "    <tr>\n",
              "      <th>3</th>\n",
              "      <td>3</td>\n",
              "      <td>0.412913</td>\n",
              "      <td>6.923457e-17</td>\n",
              "    </tr>\n",
              "    <tr>\n",
              "      <th>4</th>\n",
              "      <td>4</td>\n",
              "      <td>0.390322</td>\n",
              "      <td>2.138240e-15</td>\n",
              "    </tr>\n",
              "    <tr>\n",
              "      <th>5</th>\n",
              "      <td>5</td>\n",
              "      <td>0.341431</td>\n",
              "      <td>3.309076e-16</td>\n",
              "    </tr>\n",
              "    <tr>\n",
              "      <th>6</th>\n",
              "      <td>6</td>\n",
              "      <td>0.340721</td>\n",
              "      <td>3.414738e-16</td>\n",
              "    </tr>\n",
              "    <tr>\n",
              "      <th>7</th>\n",
              "      <td>7</td>\n",
              "      <td>0.194964</td>\n",
              "      <td>1.000359e-15</td>\n",
              "    </tr>\n",
              "    <tr>\n",
              "      <th>8</th>\n",
              "      <td>8</td>\n",
              "      <td>0.151983</td>\n",
              "      <td>4.794983e-16</td>\n",
              "    </tr>\n",
              "    <tr>\n",
              "      <th>9</th>\n",
              "      <td>9</td>\n",
              "      <td>0.000002</td>\n",
              "      <td>1.313293e-15</td>\n",
              "    </tr>\n",
              "  </tbody>\n",
              "</table>\n",
              "</div>"
            ],
            "text/plain": [
              "   M  Train.RMSE     Test.RMSE\n",
              "0  0    0.499837  5.736872e-01\n",
              "1  1    0.427954  2.874411e-16\n",
              "2  2    0.424141  1.581127e-16\n",
              "3  3    0.412913  6.923457e-17\n",
              "4  4    0.390322  2.138240e-15\n",
              "5  5    0.341431  3.309076e-16\n",
              "6  6    0.340721  3.414738e-16\n",
              "7  7    0.194964  1.000359e-15\n",
              "8  8    0.151983  4.794983e-16\n",
              "9  9    0.000002  1.313293e-15"
            ]
          },
          "metadata": {
            "tags": []
          },
          "execution_count": 248
        }
      ]
    },
    {
      "cell_type": "code",
      "metadata": {
        "colab": {
          "base_uri": "https://localhost:8080/",
          "height": 283
        },
        "id": "UvP6Bjr_oxQ7",
        "outputId": "f721be26-a741-407d-e96c-c16407ffaeb5"
      },
      "source": [
        "plt.plot( 'M', 'Train.RMSE', data=df1, marker='o', markerfacecolor='red', markersize=12, color='skyblue', linewidth=4)\n",
        "plt.plot( 'M', 'Test.RMSE', data=df1, marker='o',markerfacecolor='blue',markersize=12, color='olive', linewidth=4)\n",
        "plt.legend()\n",
        "plt.ylabel('RMSE')\n",
        "plt.xlabel('M')\n",
        "plt.ylim((0,2))\n",
        "plt.xlim((0,9))\n",
        "plt.show()"
      ],
      "execution_count": 249,
      "outputs": [
        {
          "output_type": "display_data",
          "data": {
            "image/png": "[encoded data removed]",
            "text/plain": [
              "<Figure size 432x288 with 1 Axes>"
            ]
          },
          "metadata": {
            "tags": [],
            "needs_background": "light"
          }
        }
      ]
    },
    {
      "cell_type": "code",
      "metadata": {
        "colab": {
          "base_uri": "https://localhost:8080/"
        },
        "id": "RamQgmZco3v2",
        "outputId": "58685ddd-d3c6-4a02-e12d-213b5d72463f"
      },
      "source": [
        "random.seed(42)\n",
        "X2 = np.random.uniform(0,1,120)\n",
        "print(X2)\n",
        "mu, sigma = 0, 1 # mean and standard deviation\n",
        "N = np.random.normal(mu, sigma, 120)\n",
        "print(N)\n",
        "import matplotlib.pyplot as plt\n",
        "y2=np.sin(2*np.pi*X2)+N*(1/10)\n",
        "print(y2)\n",
        "print(X2)"
      ],
      "execution_count": 250,
      "outputs": [
        {
          "output_type": "stream",
          "text": [
            "[0.5488135  0.71518937 0.60276338 0.54488318 0.4236548  0.64589411\n",
            " 0.43758721 0.891773   0.96366276 0.38344152 0.79172504 0.52889492\n",
            " 0.56804456 0.92559664 0.07103606 0.0871293  0.0202184  0.83261985\n",
            " 0.77815675 0.87001215 0.97861834 0.79915856 0.46147936 0.78052918\n",
            " 0.11827443 0.63992102 0.14335329 0.94466892 0.52184832 0.41466194\n",
            " 0.26455561 0.77423369 0.45615033 0.56843395 0.0187898  0.6176355\n",
            " 0.61209572 0.616934   0.94374808 0.6818203  0.3595079  0.43703195\n",
            " 0.6976312  0.06022547 0.66676672 0.67063787 0.21038256 0.1289263\n",
            " 0.31542835 0.36371077 0.57019677 0.43860151 0.98837384 0.10204481\n",
            " 0.20887676 0.16130952 0.65310833 0.2532916  0.46631077 0.24442559\n",
            " 0.15896958 0.11037514 0.65632959 0.13818295 0.19658236 0.36872517\n",
            " 0.82099323 0.09710128 0.83794491 0.09609841 0.97645947 0.4686512\n",
            " 0.97676109 0.60484552 0.73926358 0.03918779 0.28280696 0.12019656\n",
            " 0.2961402  0.11872772 0.31798318 0.41426299 0.0641475  0.69247212\n",
            " 0.56660145 0.26538949 0.52324805 0.09394051 0.5759465  0.9292962\n",
            " 0.31856895 0.66741038 0.13179786 0.7163272  0.28940609 0.18319136\n",
            " 0.58651293 0.02010755 0.82894003 0.00469548 0.67781654 0.27000797\n",
            " 0.73519402 0.96218855 0.24875314 0.57615733 0.59204193 0.57225191\n",
            " 0.22308163 0.95274901 0.44712538 0.84640867 0.69947928 0.29743695\n",
            " 0.81379782 0.39650574 0.8811032  0.58127287 0.88173536 0.69253159]\n",
            "[ 0.01050002  1.78587049  0.12691209  0.40198936  1.8831507  -1.34775906\n",
            " -1.270485    0.96939671 -1.17312341  1.94362119 -0.41361898 -0.74745481\n",
            "  1.92294203  1.48051479  1.86755896  0.90604466 -0.86122569  1.91006495\n",
            " -0.26800337  0.8024564   0.94725197 -0.15501009  0.61407937  0.92220667\n",
            "  0.37642553 -1.09940079  0.29823817  1.3263859  -0.69456786 -0.14963454\n",
            " -0.43515355  1.84926373  0.67229476  0.40746184 -0.76991607  0.53924919\n",
            " -0.67433266  0.03183056 -0.63584608  0.67643329  0.57659082 -0.20829876\n",
            "  0.39600671 -1.09306151 -1.49125759  0.4393917   0.1666735   0.63503144\n",
            "  2.38314477  0.94447949 -0.91282223  1.11701629 -1.31590741 -0.4615846\n",
            " -0.06824161  1.71334272 -0.74475482 -0.82643854 -0.09845252 -0.66347829\n",
            "  1.12663592 -1.07993151 -1.14746865 -0.43782004 -0.49803245  1.92953205\n",
            "  0.94942081  0.08755124 -1.22543552  0.84436298 -1.00021535 -1.5447711\n",
            "  1.18802979  0.31694261  0.92085882  0.31872765  0.85683061 -0.65102559\n",
            " -1.03424284  0.68159452 -0.80340966 -0.68954978 -0.4555325   0.01747916\n",
            " -0.35399391 -1.37495129 -0.6436184  -2.22340315  0.62523145 -1.60205766\n",
            " -1.10438334  0.05216508 -0.739563    1.5430146  -1.29285691  0.26705087\n",
            " -0.03928282 -1.1680935   0.52327666 -0.17154633  0.77179055  0.82350415\n",
            "  2.16323595  1.33652795 -0.36918184 -0.23937918  1.0996596   0.65526373\n",
            "  0.64013153 -1.61695604 -0.02432612 -0.73803091  0.2799246  -0.09815039\n",
            "  0.91017891  0.31721822  0.78632796 -0.4664191  -0.94444626 -0.41004969]\n",
            "[-0.30086837 -0.79758857 -0.58905154 -0.23808726  0.64982018 -0.92836167\n",
            "  0.25512862 -0.53186136 -0.34364756  0.86298742 -1.00719274 -0.2553019\n",
            " -0.22233618 -0.30259564  0.61841632  0.61111566  0.04057196 -0.67725169\n",
            " -1.01119181 -0.64867073 -0.03921596 -0.96817797  0.30108413 -0.88943813\n",
            "  0.71424603 -0.88013691  0.81359515 -0.20805587 -0.20630308  0.49590511\n",
            "  0.95230549 -0.80350373  0.33927259 -0.37610933  0.04079413 -0.61971704\n",
            " -0.71494768 -0.66719486 -0.40971299 -0.84199419  0.83013952  0.36456886\n",
            " -0.90675138  0.26013523 -1.0154653  -0.83429126  0.98584549  0.78783708\n",
            "  1.15499689  0.84989128 -0.51817987  0.48798176 -0.20457512  0.55197218\n",
            "  0.95997975  1.02004232 -0.89481702  0.91714229  0.2002532   0.93303886\n",
            "  0.95350474  0.53124523 -0.9464942   0.7194038   0.89439879  0.9273816\n",
            " -0.80721023  0.5817089  -0.97371978  0.65221434 -0.24739236  0.04122202\n",
            " -0.02669312 -0.58044556 -0.90563963  0.27561651  1.06451293  0.62034432\n",
            "  0.85484606  0.74685739  0.82980879  0.44406684  0.34667307 -0.93363418\n",
            " -0.44176168  0.85783355 -0.20991477  0.3342248  -0.39675812 -0.58998214\n",
            "  0.7981805  -0.86313588  0.6626985  -0.82340046  0.84021874  0.93988736\n",
            " -0.52112883  0.00919426 -0.82716803  0.01234363 -0.82172172  1.07445884\n",
            " -0.77935236 -0.10169498  0.96305113 -0.48439553 -0.43664902 -0.3730124\n",
            "  1.04974421 -0.45424015  0.32371082 -0.89587636 -0.92204792  0.94609438\n",
            " -0.82971039  0.63712602 -0.60084499 -0.53538854 -0.77100281 -0.97651914]\n",
            "[0.5488135  0.71518937 0.60276338 0.54488318 0.4236548  0.64589411\n",
            " 0.43758721 0.891773   0.96366276 0.38344152 0.79172504 0.52889492\n",
            " 0.56804456 0.92559664 0.07103606 0.0871293  0.0202184  0.83261985\n",
            " 0.77815675 0.87001215 0.97861834 0.79915856 0.46147936 0.78052918\n",
            " 0.11827443 0.63992102 0.14335329 0.94466892 0.52184832 0.41466194\n",
            " 0.26455561 0.77423369 0.45615033 0.56843395 0.0187898  0.6176355\n",
            " 0.61209572 0.616934   0.94374808 0.6818203  0.3595079  0.43703195\n",
            " 0.6976312  0.06022547 0.66676672 0.67063787 0.21038256 0.1289263\n",
            " 0.31542835 0.36371077 0.57019677 0.43860151 0.98837384 0.10204481\n",
            " 0.20887676 0.16130952 0.65310833 0.2532916  0.46631077 0.24442559\n",
            " 0.15896958 0.11037514 0.65632959 0.13818295 0.19658236 0.36872517\n",
            " 0.82099323 0.09710128 0.83794491 0.09609841 0.97645947 0.4686512\n",
            " 0.97676109 0.60484552 0.73926358 0.03918779 0.28280696 0.12019656\n",
            " 0.2961402  0.11872772 0.31798318 0.41426299 0.0641475  0.69247212\n",
            " 0.56660145 0.26538949 0.52324805 0.09394051 0.5759465  0.9292962\n",
            " 0.31856895 0.66741038 0.13179786 0.7163272  0.28940609 0.18319136\n",
            " 0.58651293 0.02010755 0.82894003 0.00469548 0.67781654 0.27000797\n",
            " 0.73519402 0.96218855 0.24875314 0.57615733 0.59204193 0.57225191\n",
            " 0.22308163 0.95274901 0.44712538 0.84640867 0.69947928 0.29743695\n",
            " 0.81379782 0.39650574 0.8811032  0.58127287 0.88173536 0.69253159]\n"
          ],
          "name": "stdout"
        }
      ]
    },
    {
      "cell_type": "code",
      "metadata": {
        "colab": {
          "base_uri": "https://localhost:8080/",
          "height": 329
        },
        "id": "JJMnGb1Qo4oy",
        "outputId": "bd1d8e3c-851e-43d9-c9b8-d338ede4e677"
      },
      "source": [
        "np.random.seed(0)\n",
        "polynomial_features= PolynomialFeatures(degree=9)\n",
        "x2_poly = polynomial_features.fit_transform(X2.reshape(120,1))\n",
        "\n",
        "# transforming the data to include another axis\n",
        "x2 = X2[:, np.newaxis]\n",
        "y2= y2[:, np.newaxis] \n",
        "\n",
        "model = LinearRegression()\n",
        "model.fit(x2_poly, y2)\n",
        "y2_poly_pred = model.predict(x2_poly)\n",
        "\n",
        "rmse = np.sqrt(mean_squared_error(y2,y2_poly_pred))\n",
        "r2 = r2_score(y2,y2_poly_pred)\n",
        "print(\"RMSE:\",rmse)\n",
        "print(\"R2:\",r2)\n",
        "\n",
        "plt.scatter(x2, y2, s=10)\n",
        "# sort the values of x before line plot\n",
        "sort_axis = operator.itemgetter(0)\n",
        "sorted_zip = sorted(zip(x2,y2_poly_pred), key=sort_axis)\n",
        "x2, y2_poly_pred = zip(*sorted_zip)\n",
        "plt.plot(x2, y2_poly_pred, color='m')\n",
        "plt.title('When order,M =9')\n",
        "plt.xlabel('X')\n",
        "plt.ylabel('y=sin(2*pi*X)+N')\n",
        "plt.show()\n"
      ],
      "execution_count": 251,
      "outputs": [
        {
          "output_type": "stream",
          "text": [
            "RMSE: 0.09496775471951993\n",
            "R2: 0.9814969951999325\n"
          ],
          "name": "stdout"
        },
        {
          "output_type": "display_data",
          "data": {
            "image/png": "[encoded data removed]",
            "text/plain": [
              "<Figure size 432x288 with 1 Axes>"
            ]
          },
          "metadata": {
            "tags": [],
            "needs_background": "light"
          }
        }
      ]
    },
    {
      "cell_type": "code",
      "metadata": {
        "id": "O-s1xQ4fo8tF"
      },
      "source": [
        "import math\n",
        "import sklearn\n",
        "from sklearn.pipeline import Pipeline\n",
        "from sklearn.linear_model import Ridge\n",
        "import operator\n",
        "import numpy as np\n",
        "import matplotlib.pyplot as plt\n",
        "from sklearn.linear_model import LinearRegression\n",
        "from sklearn.metrics import mean_squared_error, r2_score\n",
        "from sklearn.preprocessing import PolynomialFeatures\n"
      ],
      "execution_count": 252,
      "outputs": []
    },
    {
      "cell_type": "code",
      "metadata": {
        "id": "dYpW5KxkpAEM"
      },
      "source": [
        "def regularizeRidge(alpha):\n",
        "    if alpha < 0: alpha = math.exp(alpha)    \n",
        "    else:\n",
        "        print(\"alpha = \",alpha)\n",
        "        if alpha != 0: print(\"ln(alpha) = \", math.log(alpha))\n",
        "    polynomial_features= PolynomialFeatures(degree=9)\n",
        "    x_transformed =  polynomial_features.fit_transform(X2.reshape(120,1))\n",
        "    poly_linear_model = Ridge(alpha = alpha)\n",
        "    poly_linear_model.fit(x_transformed, y2)\n",
        "    return poly_linear_model\n",
        "\n",
        "def chartRidge(alpha): \n",
        "    model = regularizeRidge(alpha)\n",
        "    xx = np.linspace(0, 1, 120)\n",
        "    x_transformed =polynomial_features.fit_transform(xx.reshape(120,1))\n",
        "    yy = model.predict(x_transformed)\n",
        "    plt.plot(xx, yy,label=alpha)\n",
        "    plt.scatter(X_train, y_train)\n",
        "    plt.scatter(Xt, yt, c = 'r')\n",
        "    plt.legend()"
      ],
      "execution_count": 253,
      "outputs": []
    },
    {
      "cell_type": "code",
      "metadata": {
        "colab": {
          "base_uri": "https://localhost:8080/",
          "height": 282
        },
        "id": "ZW8Pb_JYpEmj",
        "outputId": "1bb6673c-b4cd-48c7-9433-bf350658996e"
      },
      "source": [
        "chartRidge(0)"
      ],
      "execution_count": 254,
      "outputs": [
        {
          "output_type": "stream",
          "text": [
            "alpha =  0\n"
          ],
          "name": "stdout"
        },
        {
          "output_type": "display_data",
          "data": {
            "image/png": "[encoded data removed]",
            "text/plain": [
              "<Figure size 432x288 with 1 Axes>"
            ]
          },
          "metadata": {
            "tags": [],
            "needs_background": "light"
          }
        }
      ]
    },
    {
      "cell_type": "code",
      "metadata": {
        "colab": {
          "base_uri": "https://localhost:8080/",
          "height": 298
        },
        "id": "PauYRcNZpHLK",
        "outputId": "06b7da39-1ef1-4a93-b9b4-24d5d7721cbe"
      },
      "source": [
        "chartRidge(0.1)\n"
      ],
      "execution_count": 255,
      "outputs": [
        {
          "output_type": "stream",
          "text": [
            "alpha =  0.1\n",
            "ln(alpha) =  -2.3025850929940455\n"
          ],
          "name": "stdout"
        },
        {
          "output_type": "display_data",
          "data": {
            "image/png": "[encoded data removed]",
            "text/plain": [
              "<Figure size 432x288 with 1 Axes>"
            ]
          },
          "metadata": {
            "tags": [],
            "needs_background": "light"
          }
        }
      ]
    },
    {
      "cell_type": "code",
      "metadata": {
        "colab": {
          "base_uri": "https://localhost:8080/",
          "height": 298
        },
        "id": "Z71tNzx0pNg3",
        "outputId": "7cb67581-b92b-4897-edb8-52be8c136a8a"
      },
      "source": [
        "chartRidge(0.01)"
      ],
      "execution_count": 256,
      "outputs": [
        {
          "output_type": "stream",
          "text": [
            "alpha =  0.01\n",
            "ln(alpha) =  -4.605170185988091\n"
          ],
          "name": "stdout"
        },
        {
          "output_type": "display_data",
          "data": {
            "image/png": "[encoded data removed]",
            "text/plain": [
              "<Figure size 432x288 with 1 Axes>"
            ]
          },
          "metadata": {
            "tags": [],
            "needs_background": "light"
          }
        }
      ]
    },
    {
      "cell_type": "code",
      "metadata": {
        "colab": {
          "base_uri": "https://localhost:8080/",
          "height": 298
        },
        "id": "0DDfLkXKpZUB",
        "outputId": "c8bd192e-3440-40f6-cc12-b7bb82492b35"
      },
      "source": [
        "chartRidge(0.001)"
      ],
      "execution_count": 257,
      "outputs": [
        {
          "output_type": "stream",
          "text": [
            "alpha =  0.001\n",
            "ln(alpha) =  -6.907755278982137\n"
          ],
          "name": "stdout"
        },
        {
          "output_type": "display_data",
          "data": {
            "image/png": "[encoded data removed]",
            "text/plain": [
              "<Figure size 432x288 with 1 Axes>"
            ]
          },
          "metadata": {
            "tags": [],
            "needs_background": "light"
          }
        }
      ]
    },
    {
      "cell_type": "code",
      "metadata": {
        "colab": {
          "base_uri": "https://localhost:8080/",
          "height": 298
        },
        "id": "xNfLxX6JpcdX",
        "outputId": "f35313ed-bc82-4745-9a9c-7636d1b93442"
      },
      "source": [
        "chartRidge(0.0001)"
      ],
      "execution_count": 258,
      "outputs": [
        {
          "output_type": "stream",
          "text": [
            "alpha =  0.0001\n",
            "ln(alpha) =  -9.210340371976182\n"
          ],
          "name": "stdout"
        },
        {
          "output_type": "display_data",
          "data": {
            "image/png": "[encoded data removed]",
            "text/plain": [
              "<Figure size 432x288 with 1 Axes>"
            ]
          },
          "metadata": {
            "tags": [],
            "needs_background": "light"
          }
        }
      ]
    },
    {
      "cell_type": "code",
      "metadata": {
        "colab": {
          "base_uri": "https://localhost:8080/",
          "height": 298
        },
        "id": "_mXvwKuNpgPG",
        "outputId": "4e6ec910-ab49-4b78-bf0e-4bf1326b182e"
      },
      "source": [
        "chartRidge(10)"
      ],
      "execution_count": 259,
      "outputs": [
        {
          "output_type": "stream",
          "text": [
            "alpha =  10\n",
            "ln(alpha) =  2.302585092994046\n"
          ],
          "name": "stdout"
        },
        {
          "output_type": "display_data",
          "data": {
            "image/png": "[encoded data removed]",
            "text/plain": [
              "<Figure size 432x288 with 1 Axes>"
            ]
          },
          "metadata": {
            "tags": [],
            "needs_background": "light"
          }
        }
      ]
    },
    {
      "cell_type": "code",
      "metadata": {
        "colab": {
          "base_uri": "https://localhost:8080/",
          "height": 298
        },
        "id": "4C62Ry38pioL",
        "outputId": "feb6e924-f2ff-4be1-fac5-65baeaa3ac2e"
      },
      "source": [
        "chartRidge(100)"
      ],
      "execution_count": 260,
      "outputs": [
        {
          "output_type": "stream",
          "text": [
            "alpha =  100\n",
            "ln(alpha) =  4.605170185988092\n"
          ],
          "name": "stdout"
        },
        {
          "output_type": "display_data",
          "data": {
            "image/png": "[encoded data removed]",
            "text/plain": [
              "<Figure size 432x288 with 1 Axes>"
            ]
          },
          "metadata": {
            "tags": [],
            "needs_background": "light"
          }
        }
      ]
    },
    {
      "cell_type": "code",
      "metadata": {
        "colab": {
          "base_uri": "https://localhost:8080/",
          "height": 298
        },
        "id": "yQu2TF3FplWv",
        "outputId": "fbf2d4e3-21b8-4e43-9fc8-a129341ce70e"
      },
      "source": [
        "chartRidge(1000)"
      ],
      "execution_count": 261,
      "outputs": [
        {
          "output_type": "stream",
          "text": [
            "alpha =  1000\n",
            "ln(alpha) =  6.907755278982137\n"
          ],
          "name": "stdout"
        },
        {
          "output_type": "display_data",
          "data": {
            "image/png": "[encoded data removed]",
            "text/plain": [
              "<Figure size 432x288 with 1 Axes>"
            ]
          },
          "metadata": {
            "tags": [],
            "needs_background": "light"
          }
        }
      ]
    },
    {
      "cell_type": "code",
      "metadata": {
        "colab": {
          "base_uri": "https://localhost:8080/",
          "height": 298
        },
        "id": "EqlhqjzEpn9t",
        "outputId": "ff802cac-8184-4b7b-9ec3-75645337efbb"
      },
      "source": [
        "chartRidge(10000)"
      ],
      "execution_count": 262,
      "outputs": [
        {
          "output_type": "stream",
          "text": [
            "alpha =  10000\n",
            "ln(alpha) =  9.210340371976184\n"
          ],
          "name": "stdout"
        },
        {
          "output_type": "display_data",
          "data": {
            "image/png": "[encoded data removed]",
            "text/plain": [
              "<Figure size 432x288 with 1 Axes>"
            ]
          },
          "metadata": {
            "tags": [],
            "needs_background": "light"
          }
        }
      ]
    },
    {
      "cell_type": "code",
      "metadata": {
        "id": "d_JiMTzMpqZf"
      },
      "source": [
        "from sklearn.metrics import mean_squared_error \n",
        "import tensorflow as tf\n",
        "def getMse(Y, yy):\n",
        "    standard = tf.square(Y - yy)\n",
        "    mse = tf.reduce_mean(standard)\n",
        "    return mse.numpy()\n",
        "\n",
        "\n",
        "train_error_ridge = np.zeros(30)\n",
        "test_error_ridge = np.zeros(30)\n",
        "\n",
        "def getErrorRidge(i:int,  model) :     # A new error function\n",
        "    xx_transformed_test = polynomial_features.fit_transform(Xt.reshape(Xt.shape[0], 1))\n",
        "    xx_transformed_train = polynomial_features.fit_transform(X_train.reshape(X_train.shape[0], 1))\n",
        "    yy_test = model.predict(xx_transformed_test)\n",
        "    yy_train = model.predict(xx_transformed_train)\n",
        "    test_error_ridge[i] = getMse(yt, yy_test)\n",
        "    train_error_ridge[i] = getMse(y_train, yy_train)"
      ],
      "execution_count": 263,
      "outputs": []
    },
    {
      "cell_type": "code",
      "metadata": {
        "id": "MVC2LDXtpvor"
      },
      "source": [
        "xx = list(range(-30, 0))\n",
        "for i in xx:\n",
        "    model = regularizeRidge(i)\n",
        "    getErrorRidge(i, model)"
      ],
      "execution_count": 264,
      "outputs": []
    },
    {
      "cell_type": "code",
      "metadata": {
        "colab": {
          "base_uri": "https://localhost:8080/",
          "height": 307
        },
        "id": "3sPO36wepyTw",
        "outputId": "d74c5ca4-6dff-4d10-8466-686d00883174"
      },
      "source": [
        "xx = list(range(-30, 0))\n",
        "plt.plot(xx, test_error_ridge, label = \"$test-error$\", c = 'y')\n",
        "plt.plot(xx, train_error_ridge, label = \"$train-error$\", c = 'r')\n",
        "\n",
        "plt.xlabel('ln(lamdba)')\n",
        "\n",
        "plt.ylabel('Error')\n",
        "plt.legend()"
      ],
      "execution_count": 265,
      "outputs": [
        {
          "output_type": "execute_result",
          "data": {
            "text/plain": [
              "<matplotlib.legend.Legend at 0x7fb3f0e91b10>"
            ]
          },
          "metadata": {
            "tags": []
          },
          "execution_count": 265
        },
        {
          "output_type": "display_data",
          "data": {
            "image/png": "[encoded data removed]",
            "text/plain": [
              "<Figure size 432x288 with 1 Axes>"
            ]
          },
          "metadata": {
            "tags": [],
            "needs_background": "light"
          }
        }
      ]
    },
    {
      "cell_type": "code",
      "metadata": {
        "id": "iuKCz_iWp0vc",
        "colab": {
          "base_uri": "https://localhost:8080/"
        },
        "outputId": "c9857b40-6339-4719-84e1-052bd3f71dc5"
      },
      "source": [
        " # Now lets see the best lambda\n",
        "best_lambda = 0\n",
        "for i in range(-30,0):\n",
        "    if test_error_ridge[i+30] == test_error_ridge.min(): best_lambda = i\n",
        "print(\"best ln(lambda)based on my analysis = \", best_lambda)\n",
        "best_lambda_0 = math.exp(best_lambda)\n",
        "print(\"best lambda = \", best_lambda_0)\n",
        "print(\"In Conclusion of this analysis, the model with input ln(lamdba) = \",best_lambda,\", lambda = \",best_lambda_0,\" will provide best test performance.\")"
      ],
      "execution_count": 266,
      "outputs": [
        {
          "output_type": "stream",
          "text": [
            "best ln(lambda)based on my analysis =  -1\n",
            "best lambda =  0.36787944117144233\n",
            "In Conclusion of this analysis, the model with input ln(lamdba) =  -1 , lambda =  0.36787944117144233  will provide best test performance.\n"
          ],
          "name": "stdout"
        }
      ]
    },
    {
      "cell_type": "code",
      "metadata": {
        "id": "77EV09gXYeUs"
      },
      "source": [
        ""
      ],
      "execution_count": 266,
      "outputs": []
    }
  ]
}